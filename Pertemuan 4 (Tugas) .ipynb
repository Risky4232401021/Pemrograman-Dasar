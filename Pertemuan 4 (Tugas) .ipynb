{
  "nbformat": 4,
  "nbformat_minor": 0,
  "metadata": {
    "colab": {
      "provenance": [],
      "authorship_tag": "ABX9TyOtXQK15y+RWTh0H/rLuLG9",
      "include_colab_link": true
    },
    "kernelspec": {
      "name": "python3",
      "display_name": "Python 3"
    },
    "language_info": {
      "name": "python"
    }
  },
  "cells": [
    {
      "cell_type": "markdown",
      "metadata": {
        "id": "view-in-github",
        "colab_type": "text"
      },
      "source": [
        "<a href=\"https://colab.research.google.com/github/Risky4232401021/Pemrograman-Dasar/blob/main/Pertemuan%204%20(Tugas)%20.ipynb\" target=\"_parent\"><img src=\"https://colab.research.google.com/assets/colab-badge.svg\" alt=\"Open In Colab\"/></a>"
      ]
    },
    {
      "cell_type": "code",
      "source": [
        "# TUGAS\n",
        "# Memodifikasi program agar bisa memberikan diskon\n",
        "\n",
        "print(\"=\"*30)\n",
        "print(\"SELAMAT DATANG DI KAFE RISKY\")\n",
        "print(\"=\"*30)\n",
        "print(\"Menu Makanan & Minuman:\")\n",
        "print(\"1. Kopi Hitam   - Rp 12.000\")\n",
        "print(\"2. Teh Manis    - Rp 8.000\")\n",
        "print(\"3. Roti Bakar   - Rp 15.000\")\n",
        "print(\"4. Mie Instan   - Rp 10.000\")\n",
        "print(\"=\"*30)\n",
        "\n",
        "pilihan_str = input(\"Silakan masukkan nomor pilihan Anda (1-4): \")\n",
        "pilihan = int(pilihan_str)\n",
        "nama_pesanan = \"\"\n",
        "harga = 0\n",
        "\n",
        "if pilihan == 1:\n",
        "    nama_pesanan = \"Kopi Hitam\"\n",
        "    harga = 12000\n",
        "elif pilihan == 2:\n",
        "    nama_pesanan = \"Teh Manis\"\n",
        "    harga = 8000\n",
        "elif pilihan == 3:\n",
        "    nama_pesanan = \"Roti Bakar\"\n",
        "    harga = 15000\n",
        "elif pilihan == 4:\n",
        "    nama_pesanan = \"Mie Instan\"\n",
        "    harga = 10000\n",
        "    print(f\"Anda memesan: {nama_pesanan} dengan harga Rp {harga}\")\n",
        "else:\n",
        "    print(\"Maaf, pilihan menu tidak valid. Silakan jalankan ulang program.\")\n",
        "\n",
        "if harga >= 15000:\n",
        "    diskon = 0.7     # Ini diskon 70%\n",
        "    kategori = \"70%\"\n",
        "elif harga >= 12000:\n",
        "    diskon = 0.5     # Ini diskon 50%\n",
        "    kategori = \"50%\"\n",
        "else:\n",
        "    diskon = 0.3     # Ini diskon 30%\n",
        "    kategori = \"30%\"\n",
        "\n",
        "total_diskon = int(harga * diskon)\n",
        "total_bayar = harga - total_diskon\n",
        "print(f\"Anda mendapat diskon {kategori}\")\n",
        "print(f\"Potongan Harga : Rp {total_diskon}\")\n",
        "print(f\"Total Bayar    : Rp {total_bayar}\")\n",
        "\n",
        "uang_dibayar_str = input(f\"Total yang harus dibayar Rp {total_bayar}. Masukkan jumlah uang Anda: Rp \")\n",
        "uang_dibayar = int(uang_dibayar_str)\n",
        "\n",
        "if uang_dibayar >= harga:\n",
        "    kembalian = uang_dibayar - harga\n",
        "    print(\"     STRUK PEMBAYARAN     \")\n",
        "    print(f\"Pesanan Anda   : {nama_pesanan}\")\n",
        "    print(f\"Total Harga    : Rp {harga}\")\n",
        "    print(f\"Diskon ({kategori})   : Rp {total_diskon}\")\n",
        "    print(f\"Total Bayar    : Rp {harga}\")\n",
        "    print(f\"Uang Dibayar   : Rp {uang_dibayar}\")\n",
        "    print(f\"Kembalian      : Rp {kembalian}\")\n",
        "    print(\"==============================\")\n",
        "    print(\"Terima kasih telah berbelanja!\")\n",
        "else:\n",
        "    kekurangan = int (harga - uang_dibayar)\n",
        "    print(f\"Maaf, uang Anda kurang sebesar Rp {kekurangan}\")\n",
        "\n",
        "print(\"=\"*30)"
      ],
      "metadata": {
        "colab": {
          "base_uri": "https://localhost:8080/"
        },
        "id": "L3kCrSw2dSDY",
        "outputId": "a1bf7fd5-471e-4af0-ecd0-ce37fab6d023"
      },
      "execution_count": null,
      "outputs": [
        {
          "output_type": "stream",
          "name": "stdout",
          "text": [
            "==============================\n",
            "SELAMAT DATANG DI KAFE RISKY\n",
            "==============================\n",
            "Menu Makanan & Minuman:\n",
            "1. Kopi Hitam   - Rp 12.000\n",
            "2. Teh Manis    - Rp 8.000\n",
            "3. Roti Bakar   - Rp 15.000\n",
            "4. Mie Instan   - Rp 10.000\n",
            "==============================\n",
            "Silakan masukkan nomor pilihan Anda (1-4): 3\n",
            "Anda mendapat diskon 70%\n",
            "Potongan Harga : Rp 10500\n",
            "Total Bayar    : Rp 4500\n",
            "Total yang harus dibayar Rp 4500. Masukkan jumlah uang Anda: Rp 20000\n",
            "     STRUK PEMBAYARAN     \n",
            "Pesanan Anda   : Roti Bakar\n",
            "Total Harga    : Rp 15000\n",
            "Diskon (70%)   : Rp 10500\n",
            "Total Bayar    : Rp 15000\n",
            "Uang Dibayar   : Rp 20000\n",
            "Kembalian      : Rp 5000\n",
            "==============================\n",
            "Terima kasih telah berbelanja!\n",
            "==============================\n"
          ]
        }
      ]
    }
  ]
}