{
  "nbformat": 4,
  "nbformat_minor": 0,
  "metadata": {
    "colab": {
      "provenance": [],
      "authorship_tag": "ABX9TyPYEiMpOUEVsCIHVMCdMxzS",
      "include_colab_link": true
    },
    "kernelspec": {
      "name": "python3",
      "display_name": "Python 3"
    },
    "language_info": {
      "name": "python"
    }
  },
  "cells": [
    {
      "cell_type": "markdown",
      "metadata": {
        "id": "view-in-github",
        "colab_type": "text"
      },
      "source": [
        "<a href=\"https://colab.research.google.com/github/Risky4232401021/Pemrograman-Dasar/blob/main/Pertemuan%204%20(%20Latihan)%20.ipynb\" target=\"_parent\"><img src=\"https://colab.research.google.com/assets/colab-badge.svg\" alt=\"Open In Colab\"/></a>"
      ]
    },
    {
      "cell_type": "code",
      "source": [
        "# LATIHAN 1\n",
        "# Program meminta sebuah angka\n",
        "\n",
        "angka = int(input(\"Saya memasukkan angka : \"))\n",
        "\n",
        "if angka % 5 == 0:\n",
        "    print(\"Angka ini masuk dalam kelipatan 5\")\n",
        "else:\n",
        "    print(\"Angka tersebut tidak termasuk dalam kelipatan 5\")\n"
      ],
      "metadata": {
        "colab": {
          "base_uri": "https://localhost:8080/"
        },
        "id": "XphXicHPkESa",
        "outputId": "ab7e1cfb-cfaf-43ca-fbe6-f093411407b2"
      },
      "execution_count": null,
      "outputs": [
        {
          "output_type": "stream",
          "name": "stdout",
          "text": [
            "Saya memasukkan angka : 13\n",
            "Angka ini tidak termasuk dalam kelipatan 5\n"
          ]
        }
      ]
    },
    {
      "cell_type": "code",
      "source": [
        "# LATIHAN 2\n",
        "# Program Menentukan Tahun Kabisat\n",
        "\n",
        "tahun = int(input(\"Pada tahun sekarang yaitu :\"))\n",
        "\n",
        "if tahun % 400 == 0:\n",
        "    print(tahun, \"adalah tahun kabisat\")\n",
        "elif tahun % 4 == 0 and tahun % 100 != 0:\n",
        "    print(tahun, \"itu termasuk dalam tahun kabisat\")\n",
        "else:\n",
        "    print(tahun, \"itu bukan termasuk dalam tahun kabisat\")\n"
      ],
      "metadata": {
        "colab": {
          "base_uri": "https://localhost:8080/"
        },
        "id": "S-rvL8LSAv5R",
        "outputId": "24431a69-d73c-4ea1-b2c3-d593fde3ba8b"
      },
      "execution_count": null,
      "outputs": [
        {
          "output_type": "stream",
          "name": "stdout",
          "text": [
            "Pada tahun sekarang yaitu :2025\n",
            "2025 itu bukan termasuk dalam tahun kabisat\n"
          ]
        }
      ]
    },
    {
      "cell_type": "code",
      "source": [
        "# LATIHAN 3\n",
        "# Program matematika sederhana\n",
        "\n",
        "print(\"Pilihan operasi matematika berikut ada:\")\n",
        "print(\"1. Penjumlahan (+)\")\n",
        "print(\"2. Pengurangan (-)\")\n",
        "print(\"3. Perkalian (*)\")\n",
        "print(\"4. Pembagian (/)\")\n",
        "print(\"Silahkan masukkan angka berapa saja yang ingin kamu operasikan\")\n",
        "\n",
        "a = float(input(\"Angka pertama: \"))\n",
        "b = float(input(\"Angka kedua: \"))\n",
        "pilihan = input(\"Pilihan operasi yang kamu pilih (+, -, *, /): \")\n",
        "\n",
        "if pilihan == \"+\":\n",
        "    hasil = a + b\n",
        "    print(\"Hasil penjumlahan dari angka pertama dan kedua adalah :\", hasil)\n",
        "elif pilihan == \"-\":\n",
        "    hasil = a - b\n",
        "    print(\"Hasil pengurangan dari angka pertama dan kedua adalah :\", hasil)\n",
        "elif pilihan == \"*\":\n",
        "    hasil = a * b\n",
        "    print(\"Hasil perkalian dari angka pertama dan kedua adalah :\", hasil)\n",
        "elif pilihan == \"/\":\n",
        "    hasil = a / b\n",
        "    print(\"Hasil pembagian dari angka pertama dan kedua adalah :\", hasil)\n",
        "else:\n",
        "    print(\"Pilihan operasi tidak valid\")\n"
      ],
      "metadata": {
        "colab": {
          "base_uri": "https://localhost:8080/"
        },
        "id": "baVY2WIECZ-G",
        "outputId": "30b4d402-e34d-4535-b08c-9ab416965612"
      },
      "execution_count": null,
      "outputs": [
        {
          "output_type": "stream",
          "name": "stdout",
          "text": [
            "Pilihan operasi matematika berikut ada:\n",
            "1. Penjumlahan (+)\n",
            "2. Pengurangan (-)\n",
            "3. Perkalian (*)\n",
            "4. Pembagian (/)\n",
            "Silahkan masukkan angka berapa saja yang ingin kamu operasikan\n",
            "Angka pertama: 23\n",
            "Angka kedua: 3\n",
            "Pilihan operasi yang kamu pilih (+, -, *, /): *\n",
            "Hasil perkalian dari angka pertama dan kedua adalah : 69.0\n"
          ]
        }
      ]
    },
    {
      "cell_type": "code",
      "source": [
        "# LATHAN 4\n",
        "# Meminta input angka bulan\n",
        "\n",
        "bulan = int(input(\"Masukkan bulan yang kamu mau (1-12): \"))\n",
        "\n",
        "if bulan == 1:\n",
        "    print(\"Bulan ke 1 adalah bulan Januari\")\n",
        "elif bulan == 2:\n",
        "    print(\"Bulan ke 2 adalah bulan Februari\")\n",
        "elif bulan == 3:\n",
        "    print(\"Bulan ke 3 adalah bulan Maret\")\n",
        "elif bulan == 4:\n",
        "    print(\"Bulan ke 4 adalah bulan April\")\n",
        "elif bulan == 5:\n",
        "    print(\"Bulan ke 5 adalah bulan Mei\")\n",
        "elif bulan == 6:\n",
        "    print(\"Bulan ke 6 adalah bulan Juni\")\n",
        "elif bulan == 7:\n",
        "    print(\"Bulan ke 7 adalah bulan Juli\")\n",
        "elif bulan == 8:\n",
        "    print(\"Bulan ke 8 adalah bulan Agustus\")\n",
        "elif bulan == 9:\n",
        "    print(\"Bulan ke 9 adalah bulan September\")\n",
        "elif bulan == 10:\n",
        "    print(\"Bulan ke 10 adalah bulan Oktober\")\n",
        "elif bulan == 11:\n",
        "    print(\"Bulan ke 11 adalah bulan November\")\n",
        "elif bulan == 12:\n",
        "    print(\"Bulan ke 12 adalah bulan Desember\")\n",
        "else:\n",
        "    print(\"Input salah, tidak ada bulan ke\", bulan)\n"
      ],
      "metadata": {
        "id": "hpsr64WkHmoC",
        "colab": {
          "base_uri": "https://localhost:8080/"
        },
        "outputId": "4e9367fa-d46c-457b-82e9-2e90b362bcbc"
      },
      "execution_count": null,
      "outputs": [
        {
          "output_type": "stream",
          "name": "stdout",
          "text": [
            "Masukkan bulan yang kamu mau (1-12): 10\n",
            "Bulan ke 10 adalah bulan Oktober\n"
          ]
        }
      ]
    },
    {
      "cell_type": "code",
      "source": [
        "# LATIHAN 5\n",
        "# Program Menampilkan Salam Berdasarkan Jam\n",
        "\n",
        "jam = int(input(\"Jam sudah menunjukkan pukul : \"))\n",
        "\n",
        "if jam >= 0 and jam <= 11:\n",
        "    print(\"Selamat Pagi Risky\")\n",
        "elif jam >= 12 and jam <= 15:\n",
        "    print(\"Selamat Siang Risky\")\n",
        "elif jam >= 16 and jam <= 18:\n",
        "    print(\"Selamat Sore Risky\")\n",
        "elif jam >= 19 and jam <= 23:\n",
        "    print(\"Selamat Malam Risky\")\n",
        "else:\n",
        "    print(\"Input salah, jam hanya 0-23\")\n"
      ],
      "metadata": {
        "colab": {
          "base_uri": "https://localhost:8080/"
        },
        "id": "8xLMBpx2H2Fa",
        "outputId": "a002368a-61a1-4833-91fc-1ab679e4f69f"
      },
      "execution_count": null,
      "outputs": [
        {
          "output_type": "stream",
          "name": "stdout",
          "text": [
            "Jam sudah menunjukkan pukul : 13\n",
            "Selamat Siang Risky\n"
          ]
        }
      ]
    }
  ]
}