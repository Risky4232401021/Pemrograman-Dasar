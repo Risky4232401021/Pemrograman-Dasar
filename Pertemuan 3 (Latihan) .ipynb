{
  "nbformat": 4,
  "nbformat_minor": 0,
  "metadata": {
    "colab": {
      "provenance": [],
      "authorship_tag": "ABX9TyMiNPoAw6feFQ91fi2Y/4ZF",
      "include_colab_link": true
    },
    "kernelspec": {
      "name": "python3",
      "display_name": "Python 3"
    },
    "language_info": {
      "name": "python"
    }
  },
  "cells": [
    {
      "cell_type": "markdown",
      "metadata": {
        "id": "view-in-github",
        "colab_type": "text"
      },
      "source": [
        "<a href=\"https://colab.research.google.com/github/Risky4232401021/Pemrograman-Dasar/blob/main/Pertemuan%203%20(Latihan)%20.ipynb\" target=\"_parent\"><img src=\"https://colab.research.google.com/assets/colab-badge.svg\" alt=\"Open In Colab\"/></a>"
      ]
    },
    {
      "cell_type": "code",
      "source": [
        "# menentukan tahun kabisat\n",
        "\n",
        "tahun = int(input(\"Saya membuat codingan pada tahun: \"))\n",
        "tahun_kabisat = (tahun % 4 == 0 and tahun % 100 != 0) or (tahun % 400 == 0)\n",
        "\n",
        "print(\"Apakah tahun\", tahun, \"tahun kabisat?\", tahun_kabisat)\n"
      ],
      "metadata": {
        "colab": {
          "base_uri": "https://localhost:8080/"
        },
        "id": "EUyoVptaEFSc",
        "outputId": "d7ae26b9-f5a1-40e2-86ee-f9fdf8de4429"
      },
      "execution_count": null,
      "outputs": [
        {
          "output_type": "stream",
          "name": "stdout",
          "text": [
            "Saya membuat codingan pada tahun: 2024\n",
            "Apakah tahun 2024 tahun kabisat? True\n"
          ]
        }
      ]
    },
    {
      "cell_type": "code",
      "source": [
        "# membuat program sederhana dengan fungsi input,fungsi output dan operasiaritmatika\n",
        "\n",
        "panjang = float(input(\"Panjang bangunan RTF adalah: \"))\n",
        "lebar = float(input(\"Lebar bangunan RTF adalah: \"))\n",
        "luas = panjang * lebar\n",
        "\n",
        "print(\"Luas seluruh bangunan RTF adalah =\", luas)\n"
      ],
      "metadata": {
        "colab": {
          "base_uri": "https://localhost:8080/"
        },
        "id": "mFjT7di-EdCu",
        "outputId": "42cadcab-f1d2-40d5-ef05-36b54a86e56c"
      },
      "execution_count": null,
      "outputs": [
        {
          "output_type": "stream",
          "name": "stdout",
          "text": [
            "Panjang bangunan RTF adalah: 55\n",
            "Lebar bangunan RTF adalah: 45\n",
            "Luas seluruh bangunan RTF adalah = 2475.0\n"
          ]
        }
      ]
    }
  ]
}