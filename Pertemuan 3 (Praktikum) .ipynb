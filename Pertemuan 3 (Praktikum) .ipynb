{
  "nbformat": 4,
  "nbformat_minor": 0,
  "metadata": {
    "colab": {
      "provenance": [],
      "authorship_tag": "ABX9TyMsmT+Mk85XpOYOj4CT8HnX",
      "include_colab_link": true
    },
    "kernelspec": {
      "name": "python3",
      "display_name": "Python 3"
    },
    "language_info": {
      "name": "python"
    }
  },
  "cells": [
    {
      "cell_type": "markdown",
      "metadata": {
        "id": "view-in-github",
        "colab_type": "text"
      },
      "source": [
        "<a href=\"https://colab.research.google.com/github/Risky4232401021/Pemrograman-Dasar/blob/main/Pertemuan%203%20(Praktikum)%20.ipynb\" target=\"_parent\"><img src=\"https://colab.research.google.com/assets/colab-badge.svg\" alt=\"Open In Colab\"/></a>"
      ]
    },
    {
      "cell_type": "code",
      "execution_count": null,
      "metadata": {
        "colab": {
          "base_uri": "https://localhost:8080/"
        },
        "id": "3MSjHge4gAJJ",
        "outputId": "98740f88-990d-4752-b66f-6dbdb9ee3e29"
      },
      "outputs": [
        {
          "output_type": "stream",
          "name": "stdout",
          "text": [
            "Berapa porsi makan yang Anda beli? : 2\n",
            "Siapa Nama Pelanggan? : Risky\n",
            "Nama Pelanggan: Risky\n",
            "Total Porsi yang dibeli : 2.0\n"
          ]
        }
      ],
      "source": [
        "# input-output\n",
        "\n",
        "total = float(input(\"Berapa porsi makan yang Anda beli? : \"))\n",
        "Nama  = str(input(\"Siapa Nama Pelanggan? : \"))\n",
        "\n",
        "print(\"Nama Pelanggan:\", Nama)\n",
        "print(\"Total Porsi yang dibeli :\", total)"
      ]
    },
    {
      "cell_type": "code",
      "source": [
        "# input-output\n",
        "\n",
        "food = \"Mi ayam bakso\"\n",
        "harga = 15000\n",
        "porsi = 2\n",
        "kode_hex = 321\n",
        "kode_oktal = 55\n",
        "\n",
        "print(\"Risky sedang memesan: %s\" % (food))\n",
        "print(\"Harga satuan: %d\" % (harga))\n",
        "print(\"Total harga: %d\" % (porsi * harga))\n",
        "print(\"Kode dalam heksadesimal: %x\" % (kode_hex))\n",
        "print(\"Kode dalam oktal: %o\" % (kode_oktal))\n"
      ],
      "metadata": {
        "colab": {
          "base_uri": "https://localhost:8080/"
        },
        "id": "GcHHHRDbRvR5",
        "outputId": "5130f5fd-8bda-446d-c74a-a07fc29cb250"
      },
      "execution_count": null,
      "outputs": [
        {
          "output_type": "stream",
          "name": "stdout",
          "text": [
            "Risky sedang memesan: Mi ayam bakso\n",
            "Harga satuan: 15000\n",
            "Total harga: 30000\n",
            "Kode dalam heksadesimal: 141\n",
            "Kode dalam oktal: 67\n"
          ]
        }
      ]
    },
    {
      "cell_type": "code",
      "source": [
        "# input-output\n",
        "\n",
        "# kalkulator sederhana\n",
        "a = 20\n",
        "b = 5\n",
        "print(\"Penjumlahan:\", a + b)\n",
        "print(\"Pengurangan:\", a - b)\n",
        "print(\"Perkalian:\", a * b)\n",
        "print(\"Pembagian:\", a / b)\n",
        "\n",
        "# Kalkulator kasir\n",
        "harga_makan = int(input(\"Berapa harga mi ayam per porsi? \"))\n",
        "jumlah_makan = int(input(\"Berapa porsi yang Anda beli? \"))\n",
        "total_makan = harga_makan * jumlah_makan\n",
        "print(f\"Harga makan per porsi = {harga_makan}, totalnya adalah {total_makan}\")\n",
        "\n",
        "# Mengecek bilangan\n",
        "bilangan = 8\n",
        "hasil = (bilangan > 0) and (bilangan % 2 == 0)\n",
        "print(\"Genap dan positif?\", hasil)\n"
      ],
      "metadata": {
        "colab": {
          "base_uri": "https://localhost:8080/"
        },
        "id": "HC0YEX8_sW2T",
        "outputId": "c1fea3f3-e3fb-42b5-f35f-1ce8fdaa052a"
      },
      "execution_count": null,
      "outputs": [
        {
          "output_type": "stream",
          "name": "stdout",
          "text": [
            "Penjumlahan: 25\n",
            "Pengurangan: 15\n",
            "Perkalian: 100\n",
            "Pembagian: 4.0\n",
            "Berapa harga mi ayam per porsi? 15000\n",
            "Berapa porsi yang Anda beli? 2\n",
            "Harga makan per porsi = 15000, totalnya adalah 30000\n",
            "Genap dan positif? True\n"
          ]
        }
      ]
    },
    {
      "cell_type": "code",
      "source": [
        "# ekspresi\n",
        "\n",
        "# konversi waktu\n",
        "total_detik = int(input(\"Masukkan total detik: \"))\n",
        "\n",
        "jam = total_detik // 3600\n",
        "sisa_detik = total_detik % 3600\n",
        "menit = sisa_detik // 60\n",
        "detik = sisa_detik % 60\n",
        "\n",
        "print(f\"Hasil Konversi: {jam} Jam, {menit} Menit, {detik} Detik\")\n"
      ],
      "metadata": {
        "colab": {
          "base_uri": "https://localhost:8080/"
        },
        "id": "noe33Qb2QP1h",
        "outputId": "a7603f42-2412-46f8-b615-51ee1598f993"
      },
      "execution_count": null,
      "outputs": [
        {
          "output_type": "stream",
          "name": "stdout",
          "text": [
            "Masukkan total detik: 358200\n",
            "Hasil Konversi: 99 Jam, 30 Menit, 0 Detik\n"
          ]
        }
      ]
    },
    {
      "cell_type": "code",
      "source": [
        "# Input 5 nilai mahasiswa\n",
        "\n",
        "tugas = 80\n",
        "uts = 70\n",
        "uas = 90\n",
        "nilai_akhir = (0.3 * tugas) + (0.3 * uts) + (0.4 * uas)\n",
        "print(\"Nilai akhir =\", nilai_akhir)\n",
        "\n",
        "tugas = int(input(\"Masukkan nilai Tugas: \"))\n",
        "uts = int(input(\"Masukkan nilai UTS: \"))\n",
        "uas = int(input(\"Masukkan nilai UAS: \"))\n",
        "\n",
        "nilai_mahasiswa = int(input(\"standar nilai mahasiswa:\"))\n",
        "standar_kelulusan = int(input(\"Standar kelulusan mahasiswa: \"))\n",
        "apakah_lulus = nilai_mahasiswa >= standar_kelulusan\n",
        "perlu_remedial = nilai_mahasiswa < standar_kelulusan\n",
        "\n",
        "print(f\"Nilai Mahasiswa : {nilai_mahasiswa}\")\n",
        "print(f\"Standar Kelulusan: {standar_kelulusan}\")\n",
        "print(f\"Apakah Mahasiswa Lulus? {apakah_lulus}\")\n",
        "print(f\"Perlu Remedial? {perlu_remedial}\")\n"
      ],
      "metadata": {
        "colab": {
          "base_uri": "https://localhost:8080/"
        },
        "id": "oZqguZU56ggK",
        "outputId": "e94f9f85-0bb3-470b-ebb4-f9c13d1f5238"
      },
      "execution_count": null,
      "outputs": [
        {
          "output_type": "stream",
          "name": "stdout",
          "text": [
            "Nilai akhir = 81.0\n",
            "Masukkan nilai Tugas: 80\n",
            "Masukkan nilai UTS: 70\n",
            "Masukkan nilai UAS: 90\n",
            "standar nilai mahasiswa:75\n",
            "Standar kelulusan mahasiswa: 80\n",
            "Nilai Mahasiswa : 75\n",
            "Standar Kelulusan: 80\n",
            "Apakah Mahasiswa Lulus? False\n",
            "Perlu Remedial? True\n"
          ]
        }
      ]
    },
    {
      "cell_type": "code",
      "source": [
        "# ekspresi\n",
        "\n",
        "belanja = 150000\n",
        "belanja = int(input(\"Masukkan total belanja: \"))\n",
        "diskon = (0, 0.35 * belanja)[belanja > 0]\n",
        "total_harga = belanja - diskon\n",
        "\n",
        "print(\"Total harga setelah diskon =\", total_harga)\n"
      ],
      "metadata": {
        "colab": {
          "base_uri": "https://localhost:8080/"
        },
        "id": "XikiViY85IOY",
        "outputId": "88e45b05-8c8d-46f1-a42f-e8913368babc"
      },
      "execution_count": null,
      "outputs": [
        {
          "output_type": "stream",
          "name": "stdout",
          "text": [
            "Masukkan total belanja: 150000\n",
            "Total harga setelah diskon = 97500.0\n"
          ]
        }
      ]
    }
  ]
}