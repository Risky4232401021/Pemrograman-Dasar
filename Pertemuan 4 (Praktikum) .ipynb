{
  "nbformat": 4,
  "nbformat_minor": 0,
  "metadata": {
    "colab": {
      "provenance": [],
      "authorship_tag": "ABX9TyM2loauRpGOAaUClEHxLhUY",
      "include_colab_link": true
    },
    "kernelspec": {
      "name": "python3",
      "display_name": "Python 3"
    },
    "language_info": {
      "name": "python"
    }
  },
  "cells": [
    {
      "cell_type": "markdown",
      "metadata": {
        "id": "view-in-github",
        "colab_type": "text"
      },
      "source": [
        "<a href=\"https://colab.research.google.com/github/Risky4232401021/Pemrograman-Dasar/blob/main/Pertemuan%204%20(Praktikum)%20.ipynb\" target=\"_parent\"><img src=\"https://colab.research.google.com/assets/colab-badge.svg\" alt=\"Open In Colab\"/></a>"
      ]
    },
    {
      "cell_type": "code",
      "execution_count": null,
      "metadata": {
        "colab": {
          "base_uri": "https://localhost:8080/"
        },
        "id": "5GZXAmRWxQWz",
        "outputId": "224d6d17-e455-4ae3-b10c-b0f11a4e1aa1"
      },
      "outputs": [
        {
          "output_type": "stream",
          "name": "stdout",
          "text": [
            "pengunjung adalah orang dewasa\n"
          ]
        }
      ],
      "source": [
        "# if (percabangan tunggal)\n",
        "#contohpenggunaan IF tunggul\n",
        "\n",
        "#Variabel untuk menyimpan umur pengunjung\n",
        "umur: int = 20\n",
        "\n",
        "#program hanya akan mencetak pesan jika umur diatas 17\n",
        "if umur > 17:\n",
        "    print(\"pengunjung adalah orang dewasa\")"
      ]
    },
    {
      "cell_type": "code",
      "source": [
        "username = input(\"masukkan username:\")\n",
        "password = input(\"masukan password:\")\n",
        "\n",
        "if username == \"Muhammad Risky\" and password == \"1234Riskykiky\":\n",
        "    print(\"login berhasil\")\n",
        "else:\n",
        "    print(\"password salah\")"
      ],
      "metadata": {
        "colab": {
          "base_uri": "https://localhost:8080/"
        },
        "id": "l7BYiU1gyL7S",
        "outputId": "7d50f0cb-4712-4e01-95ea-382b626fe486"
      },
      "execution_count": null,
      "outputs": [
        {
          "output_type": "stream",
          "name": "stdout",
          "text": [
            "masukkan username:Muhammad Risky\n",
            "masukan password:1234Riskykiky\n",
            "login berhasil\n"
          ]
        }
      ]
    },
    {
      "cell_type": "code",
      "source": [
        "#program untuk mengecek bonus dan diskon\n",
        "total_belanja = input(\"total belanja: Rp\")\n",
        "#jumlah yang harus dibayar adalah berapa total belanjanya\n",
        "#tapi kalau dapat diskon akan berkurang\n",
        "bayar = int(total_belanja)\n",
        "#jika dia belanja di atas 100rb maka berikan bonus dan diskon\n",
        "if int (total_belanja) >= 100000:\n",
        "  print(\"selamat karena belanja > Rp100.000 anda mendapatkan voucher makan\")\n",
        "  print(\"dan diskon 5%\")\n",
        "  #hitung diskonnya\n",
        "  diskon =int(total_belanja) * 5/100 #5%\n",
        "  bayar = int(total_belanja) - diskon\n",
        "  #cetak struk\n",
        "  print (\"total yang harus dibayar: Rp %s\" % bayar)\n",
        "  print(\"terima kasih sudah berbelanja di toko kami\")\n",
        "  print (\"kami tunggu kunjungan anda selanjutya\")"
      ],
      "metadata": {
        "colab": {
          "base_uri": "https://localhost:8080/"
        },
        "id": "f02FwJaoz946",
        "outputId": "675ce5d4-44bc-46ad-df66-319cf484a617"
      },
      "execution_count": null,
      "outputs": [
        {
          "output_type": "stream",
          "name": "stdout",
          "text": [
            "total belanja: Rp120000\n",
            "selamat karena belanja > Rp100.000 anda mendapatkan voucher makan\n",
            "dan diskon 5%\n",
            "total yang harus dibayar: Rp 114000.0\n",
            "terima kasih sudah berbelanja di toko kami\n",
            "kami tunggu kunjungan anda selanjutya\n"
          ]
        }
      ]
    },
    {
      "cell_type": "code",
      "source": [
        "#variabel untuk memeriksa apakah ada notifikasi baru\n",
        "ada_notifikasi_baru: bool = True\n",
        "\n",
        "if ada_notifikasi_baru:\n",
        "    print(\"anda memiliki pesan baru\")"
      ],
      "metadata": {
        "colab": {
          "base_uri": "https://localhost:8080/"
        },
        "id": "QWB_Het-0m7f",
        "outputId": "b4e2487f-8f25-473a-c3e8-684932eebcdd"
      },
      "execution_count": null,
      "outputs": [
        {
          "output_type": "stream",
          "name": "stdout",
          "text": [
            "anda memiliki pesan baru\n"
          ]
        }
      ]
    },
    {
      "cell_type": "code",
      "source": [
        "# If-Else\n",
        "#contoh penggunaan percabangan ganda\n",
        "\n",
        "umur = input (\"berapa umur kamu: \")\n",
        "if int(umur) >= 18:\n",
        "    print(\"anda sudah boleh membuat SIM dan KTP\")\n",
        "else:\n",
        "    print(\"anda belum boleh membuat SIM dan KTP\")"
      ],
      "metadata": {
        "colab": {
          "base_uri": "https://localhost:8080/"
        },
        "id": "XJQAe-ph0vtQ",
        "outputId": "28eaf07c-833b-4f47-d116-ebd36956f08b"
      },
      "execution_count": null,
      "outputs": [
        {
          "output_type": "stream",
          "name": "stdout",
          "text": [
            "berapa umur kamu: 19\n",
            "anda sudah boleh membuat SIM dan KTP\n"
          ]
        }
      ]
    },
    {
      "cell_type": "code",
      "source": [
        "#asumsikan total belanja di atas 20rb\n",
        "\n",
        "if int (total_belanja) > 200000:\n",
        "    diskon = int (total_belanja) * 0.10\n",
        "    total_bayar = int (total_belanja) - diskon\n",
        "    print(f\"anda mendapat diskon! total bayar: Rp{total_bayar}\")\n",
        "else:\n",
        "    print(f\"total bayar: Rp {total_belanja}\")"
      ],
      "metadata": {
        "colab": {
          "base_uri": "https://localhost:8080/"
        },
        "id": "SJytUxen2Cog",
        "outputId": "6ae264c4-5155-42ce-efca-95c1d5681f50"
      },
      "execution_count": null,
      "outputs": [
        {
          "output_type": "stream",
          "name": "stdout",
          "text": [
            "total bayar: Rp 120000\n"
          ]
        }
      ]
    },
    {
      "cell_type": "code",
      "source": [
        "angka = int(input(\"masukkan bilangan: \"))\n",
        "\n",
        "if angka % 2 == 0:\n",
        "    print(\"angka genap\")\n",
        "else:\n",
        "    print(\"angka ganjil\")"
      ],
      "metadata": {
        "colab": {
          "base_uri": "https://localhost:8080/"
        },
        "id": "wxlX7c7G2c3a",
        "outputId": "d75abd49-0509-4667-eebf-08a943a1704f"
      },
      "execution_count": null,
      "outputs": [
        {
          "output_type": "stream",
          "name": "stdout",
          "text": [
            "masukkan bilangan: 33\n",
            "angka ganjil\n"
          ]
        }
      ]
    },
    {
      "cell_type": "code",
      "source": [
        "# if-elif-else\n",
        "# contoh penggunaan IF majemuk\n",
        "\n",
        "nilai = 80\n",
        "if nilai >= 85:\n",
        "    print(\"Luar biasa! Nilai A\")\n",
        "elif nilai >= 70:\n",
        "    print(\"Bagus! Nilai B\")\n",
        "elif nilai >= 60:\n",
        "    print(\"Cukup. Nilai C\")\n",
        "else:\n",
        "    print(\"Nilai kurang, perlu belajar lebih giat.\")"
      ],
      "metadata": {
        "colab": {
          "base_uri": "https://localhost:8080/"
        },
        "id": "l-GHVWuBd8qk",
        "outputId": "e1e7ea14-eea7-4233-91e6-eb821af966dd"
      },
      "execution_count": null,
      "outputs": [
        {
          "output_type": "stream",
          "name": "stdout",
          "text": [
            "Bagus! Nilai B\n"
          ]
        }
      ]
    },
    {
      "cell_type": "code",
      "source": [
        "# menentukan jenis diskon berdasarkan hari\n",
        "\n",
        "hari = \"Sabtu\"\n",
        "\n",
        "if hari == \"Sabtu\" or hari == \"Minggu\":\n",
        "    diskon = float = 0.20  # Diskon 20%\n",
        "    print(f\"Selamat! Anda mendapat diskon akhir pekan sebesar {diskon*100}%.\")\n",
        "elif hari == \"Jumat\":\n",
        "    diskon = float = 0.15  # Diskon 15%\n",
        "    print(f\"Diskon spesial Jumat! Anda mendapat potongan {diskon*100}%.\")\n",
        "else:\n",
        "    diskon = float = 0.05  # Diskon 5%\n",
        "    print(f\"Anda mendapat diskon hari biasa sebesar {diskon*100}%.\")"
      ],
      "metadata": {
        "colab": {
          "base_uri": "https://localhost:8080/"
        },
        "id": "Whc4j1_peaZ3",
        "outputId": "7a062362-3e1e-4b0c-bda3-bb433a9a3181"
      },
      "execution_count": null,
      "outputs": [
        {
          "output_type": "stream",
          "name": "stdout",
          "text": [
            "Selamat! Anda mendapat diskon akhir pekan sebesar 20.0%.\n"
          ]
        }
      ]
    },
    {
      "cell_type": "code",
      "source": [
        "rupiah = int(input(\"Masukkan jumlah uang (Rp): \"))\n",
        "print(\"1. Dollar (USD)\")\n",
        "print(\"2. Euro (EUR)\")\n",
        "print(\"3. Yen (JPY)\")\n",
        "pilih = int(input(\"Pilih konversi (1/2/3): \"))\n",
        "\n",
        "if pilih == 1:\n",
        "    print(\"Dalam Dollar:\", rupiah / 15000)\n",
        "elif pilih == 2:\n",
        "    print(\"Dalam Euro:\", rupiah / 16000)\n",
        "elif pilih == 3:\n",
        "    print(\"Dalam Yen:\", rupiah / 120)\n",
        "else:\n",
        "    print(\"Pilihan tidak valid\")"
      ],
      "metadata": {
        "colab": {
          "base_uri": "https://localhost:8080/"
        },
        "id": "BV8TnO32e4Ua",
        "outputId": "048ee4f9-8d85-4619-ba96-e2922e5d8e19"
      },
      "execution_count": null,
      "outputs": [
        {
          "output_type": "stream",
          "name": "stdout",
          "text": [
            "Masukkan jumlah uang (Rp): 200000\n",
            "1. Dollar (USD)\n",
            "2. Euro (EUR)\n",
            "3. Yen (JPY)\n",
            "Pilih konversi (1/2/3): 2\n",
            "Dalam Euro: 12.5\n"
          ]
        }
      ]
    }
  ]
}