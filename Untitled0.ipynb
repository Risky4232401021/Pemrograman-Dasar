{
  "nbformat": 4,
  "nbformat_minor": 0,
  "metadata": {
    "colab": {
      "provenance": [],
      "authorship_tag": "ABX9TyMpC10krvmzxlP/fscGJD0E",
      "include_colab_link": true
    },
    "kernelspec": {
      "name": "python3",
      "display_name": "Python 3"
    },
    "language_info": {
      "name": "python"
    }
  },
  "cells": [
    {
      "cell_type": "markdown",
      "metadata": {
        "id": "view-in-github",
        "colab_type": "text"
      },
      "source": [
        "<a href=\"https://colab.research.google.com/github/Risky4232401021/Pemrograman-Dasar/blob/main/Untitled0.ipynb\" target=\"_parent\"><img src=\"https://colab.research.google.com/assets/colab-badge.svg\" alt=\"Open In Colab\"/></a>"
      ]
    },
    {
      "cell_type": "code",
      "source": [
        "# Biodata dari diri saya pribadi\n",
        "identitas = (\"Muhammad Risky\", 4232401021, \"Kundur Karimun, 22-April-2006\", 19)\n",
        "pendidikan = [\"Teknik Elektro\", \"RPE\", \"Politeknik Negeri Batam\", 3]\n",
        "matakuliah = {\"Pemrograman Dasar\"}\n",
        "lainnya = {\"hobi\": \"Futsal dan Badminton\",\n",
        "           \"status_lulus\": False}\n",
        "print(\"Nama        :\", identitas[0])\n",
        "print(\"NIM         :\", identitas[1])\n",
        "print(\"TTL         :\", identitas[2])\n",
        "print(\"Umur        :\", identitas[3])\n",
        "print(\"Jurusan     :\", pendidikan[0])\n",
        "print(\"Prodi       :\", pendidikan[1])\n",
        "print(\"Kampus      :\", pendidikan[2])\n",
        "print(\"Semester    :\", pendidikan[3])\n",
        "print(\"Mata Kuliah :\", matakuliah)\n",
        "print(\"Hobi        :\", lainnya[\"hobi\"])\n",
        "print(\"Status Lulus:\", lainnya[\"status_lulus\"])\n"
      ],
      "metadata": {
        "colab": {
          "base_uri": "https://localhost:8080/"
        },
        "id": "IqHI3Sg72qqc",
        "outputId": "4b6bbe49-90ac-413e-c70f-5c03c616b62f"
      },
      "execution_count": 4,
      "outputs": [
        {
          "output_type": "stream",
          "name": "stdout",
          "text": [
            "Nama        : Muhammad Risky\n",
            "NIM         : 4232401021\n",
            "TTL         : Kundur Karimun, 22-April-2006\n",
            "Umur        : 19\n",
            "Jurusan     : Teknik Elektro\n",
            "Prodi       : RPE\n",
            "Kampus      : Politeknik Negeri Batam\n",
            "Semester    : 3\n",
            "Mata Kuliah : {'Pemrograman Dasar'}\n",
            "Hobi        : Futsal dan Badminton\n",
            "Status Lulus: False\n"
          ]
        }
      ]
    }
  ]
}