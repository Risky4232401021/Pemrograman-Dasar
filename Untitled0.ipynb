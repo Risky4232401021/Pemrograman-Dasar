{
  "nbformat": 4,
  "nbformat_minor": 0,
  "metadata": {
    "colab": {
      "provenance": [],
      "authorship_tag": "ABX9TyPoccnEggW4a3PaaYpN7g0X",
      "include_colab_link": true
    },
    "kernelspec": {
      "name": "python3",
      "display_name": "Python 3"
    },
    "language_info": {
      "name": "python"
    }
  },
  "cells": [
    {
      "cell_type": "markdown",
      "metadata": {
        "id": "view-in-github",
        "colab_type": "text"
      },
      "source": [
        "<a href=\"https://colab.research.google.com/github/Risky4232401021/Pemrograman-Dasar/blob/main/Untitled0.ipynb\" target=\"_parent\"><img src=\"https://colab.research.google.com/assets/colab-badge.svg\" alt=\"Open In Colab\"/></a>"
      ]
    },
    {
      "cell_type": "code",
      "execution_count": 6,
      "metadata": {
        "colab": {
          "base_uri": "https://localhost:8080/"
        },
        "id": "jNNP6bRzdY4H",
        "outputId": "fdedb241-734a-42b9-da2a-75145b4c2dc2"
      },
      "outputs": [
        {
          "output_type": "stream",
          "name": "stdout",
          "text": [
            "Muhammad Risky\n",
            "4232401021\n",
            "Kundur Karimun\n",
            "22-April-2006\n",
            "Batu Aji\n",
            "19\n",
            "Teknik Elektro\n",
            "RPE\n",
            "3\n",
            "Pemerograman Dasar\n",
            "Politeknik Negeri Batam\n",
            "False\n"
          ]
        }
      ],
      "source": [
        "# Biodata Saya\n",
        "\n",
        "nama = \"Muhammad Risky\"\n",
        "nim = 4232401021\n",
        "tempat_lahir = \"Kundur Karimun\"\n",
        "tanggal_lahir = \"22-April-2006\"\n",
        "tempat_tinggal_dibatam = \"Batu Aji\"\n",
        "umur = 19\n",
        "jurusan = \"Teknik Elektro\"\n",
        "prodi = \"RPE\"\n",
        "semester = 3\n",
        "matakuliah = 'Pemerograman Dasar'\n",
        "nama_kampus = \"Politeknik Negeri Batam\"\n",
        "status_lulus = False\n",
        "\n",
        "\n",
        "print (nama)\n",
        "print (nim)\n",
        "print (tempat_lahir)\n",
        "print (tanggal_lahir)\n",
        "print (tempat_tinggal_dibatam)\n",
        "print (umur)\n",
        "print (jurusan)\n",
        "print (prodi)\n",
        "print (semester)\n",
        "print (matakuliah)\n",
        "print (nama_kampus)\n",
        "print (status_lulus)\n",
        "\n",
        "\n"
      ]
    },
    {
      "cell_type": "code",
      "source": [],
      "metadata": {
        "id": "SBg1FoQntODL"
      },
      "execution_count": null,
      "outputs": []
    }
  ]
}