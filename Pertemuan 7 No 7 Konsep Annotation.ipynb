{
  "nbformat": 4,
  "nbformat_minor": 0,
  "metadata": {
    "colab": {
      "provenance": [],
      "authorship_tag": "ABX9TyPRxTl2yypebMG5eq8HCq7V",
      "include_colab_link": true
    },
    "kernelspec": {
      "name": "python3",
      "display_name": "Python 3"
    },
    "language_info": {
      "name": "python"
    }
  },
  "cells": [
    {
      "cell_type": "markdown",
      "metadata": {
        "id": "view-in-github",
        "colab_type": "text"
      },
      "source": [
        "<a href=\"https://colab.research.google.com/github/Risky4232401021/Pemrograman-Dasar/blob/main/Pertemuan%207%20No%207%20Konsep%20Annotation.ipynb\" target=\"_parent\"><img src=\"https://colab.research.google.com/assets/colab-badge.svg\" alt=\"Open In Colab\"/></a>"
      ]
    },
    {
      "cell_type": "code",
      "execution_count": 1,
      "metadata": {
        "colab": {
          "base_uri": "https://localhost:8080/"
        },
        "id": "E37vsjGl_2Rl",
        "outputId": "6007fa72-5210-469e-be75-2164a533645d"
      },
      "outputs": [
        {
          "output_type": "stream",
          "name": "stdout",
          "text": [
            "NIM            : 4232401021\n",
            "Tempat Lahir   : Kundur Karimun\n",
            "Tanggal Lahir  : 22-April-2006\n",
            "Alamat di Batam: Batu Aji\n",
            "Umur           : 19 tahun\n",
            "Hobi           : Futsal dan Badminton\n",
            "Jurusan        : Teknik Elektro\n",
            "Program Studi  : RPE\n",
            "Semester       : 3\n",
            "Mata Kuliah    : Pemrograman Dasar\n",
            "Kampus         : Politeknik Negeri Batam\n",
            "Status Lulus   : False\n"
          ]
        }
      ],
      "source": [
        "# Biodata saya menggunakan konsep annotation\n",
        "nim: int = 4232401021\n",
        "tempat_lahir: str = \"Kundur Karimun\"\n",
        "tanggal_lahir: str = \"22-April-2006\"\n",
        "alamat_dibatam: str = \"Batu Aji\"\n",
        "umur: int = 19\n",
        "hobi: str = \"Futsal dan Badminton\"\n",
        "jurusan: str = \"Teknik Elektro\"\n",
        "prodi: str = \"RPE\"\n",
        "semester: int = 3\n",
        "mata_kuliah: str = \"Pemrograman Dasar\"\n",
        "nama_kampus: str = \"Politeknik Negeri Batam\"\n",
        "status_lulus: bool = False\n",
        "\n",
        "print(\"NIM            :\", nim)\n",
        "print(\"Tempat Lahir   :\", tempat_lahir)\n",
        "print(\"Tanggal Lahir  :\", tanggal_lahir)\n",
        "print(\"Alamat di Batam:\", alamat_dibatam)\n",
        "print(\"Umur           :\", umur, \"tahun\")\n",
        "print(\"Hobi           :\", hobi)\n",
        "print(\"Jurusan        :\", jurusan)\n",
        "print(\"Program Studi  :\", prodi)\n",
        "print(\"Semester       :\", semester)\n",
        "print(\"Mata Kuliah    :\", mata_kuliah)\n",
        "print(\"Kampus         :\", nama_kampus)\n",
        "print(\"Status Lulus   :\", status_lulus)"
      ]
    }
  ]
}