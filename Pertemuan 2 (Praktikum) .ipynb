{
  "nbformat": 4,
  "nbformat_minor": 0,
  "metadata": {
    "colab": {
      "provenance": [],
      "authorship_tag": "ABX9TyOvFAc0gqbOys7MxwrN7jvu",
      "include_colab_link": true
    },
    "kernelspec": {
      "name": "python3",
      "display_name": "Python 3"
    },
    "language_info": {
      "name": "python"
    }
  },
  "cells": [
    {
      "cell_type": "markdown",
      "metadata": {
        "id": "view-in-github",
        "colab_type": "text"
      },
      "source": [
        "<a href=\"https://colab.research.google.com/github/Risky4232401021/Pemrograman-Dasar/blob/main/Salinan_dari_Untitled0.ipynb\" target=\"_parent\"><img src=\"https://colab.research.google.com/assets/colab-badge.svg\" alt=\"Open In Colab\"/></a>"
      ]
    },
    {
      "cell_type": "code",
      "execution_count": null,
      "metadata": {
        "colab": {
          "base_uri": "https://localhost:8080/"
        },
        "id": "patpqclkrRNA",
        "outputId": "253b2084-6c93-4d20-e6d8-aaddf76c78a0"
      },
      "outputs": [
        {
          "output_type": "stream",
          "name": "stdout",
          "text": [
            "43\n"
          ]
        }
      ],
      "source": [
        "# deklarasi variabel list\n",
        "numbers = [23, 43, 15, 34]\n",
        "# cara mengakses elemen dalam variabel list\n",
        "numbers[0] # 23\n",
        "numbers[1] # 43\n",
        "numbers[2] # 15\n",
        "numbers[3] # 34\n",
        "# cara mengubah nilai elemen dalam varibel list\n",
        "numbers[2] # 51\n",
        "numbers[2] # 51\n",
        "\n",
        "print (numbers[1]) #lakukan untuk setiap indexnya dan liat hasilnya"
      ]
    },
    {
      "cell_type": "code",
      "source": [
        "# deklarasi variabel list numbers\n",
        "numbers = [1, 2, 3]\n",
        "\n",
        "# menambahkan elemen di indeks ke-4\n",
        "numbers.insert(4, 5) # [1, 2, 3, 4, 5]\n",
        "\n",
        "# mengubah elemen di indeks ke-4\n",
        "numbers[3] = 4 #[1, 2, 3, 4, 5]\n",
        "\n",
        "# menghapus elemen di indeks ke-2\n",
        "numbers.pop(2) # [1, 2, 4]\n",
        "\n",
        "# print"
      ],
      "metadata": {
        "colab": {
          "base_uri": "https://localhost:8080/"
        },
        "id": "zV60u1b6Hu-c",
        "outputId": "fee09957-0642-4a4d-9939-5dc17323d774"
      },
      "execution_count": null,
      "outputs": [
        {
          "output_type": "execute_result",
          "data": {
            "text/plain": [
              "3"
            ]
          },
          "metadata": {},
          "execution_count": 1
        }
      ]
    },
    {
      "cell_type": "code",
      "source": [
        "# deklarasi variabel list numbers\n",
        "numbers = [1, 2, 3]\n",
        "\n",
        "# menambahkan elemen di indeks ke-4\n",
        "numbers.insert(4, 5) # [1, 2, 3, 4, 5]\n",
        "\n",
        "# mengubah elemen di indeks ke-4\n",
        "numbers[3] = 4 #[1, 2, 3, 4, 5]\n",
        "\n",
        "# menghapus elemen di indeks ke-2\n",
        "numbers.pop(2) # [1, 2, 4]\n",
        "\n",
        "# print\n"
      ],
      "metadata": {
        "colab": {
          "base_uri": "https://localhost:8080/"
        },
        "id": "VoD600EHL8Kt",
        "outputId": "00f4c0a2-d4e5-478c-eb41-c470d2bb0a12"
      },
      "execution_count": null,
      "outputs": [
        {
          "output_type": "execute_result",
          "data": {
            "text/plain": [
              "3"
            ]
          },
          "metadata": {},
          "execution_count": 5
        }
      ]
    },
    {
      "cell_type": "code",
      "source": [
        "# deklarasi variabel list\n",
        "mylist = [1, \"Rumah\", 4.5, True, [\"kamar mandi\", \"kamar tidur\"]]\n",
        "\n",
        "# cara mengakses elemen dalam variabel list\n",
        "# mylist[0] = 1\n",
        "# mylist[1] = \"Rumah\"\n",
        "# mylist[2] = 4.5\n",
        "# mylist[3] = True\n",
        "# mylist[4] = [\"kamar mandi\", \"kamar tidur\"]\n",
        "\n",
        "# cara mengakses elemen dalam sublist\n",
        "# mylist[4][0] = \"kamar mandi\"\n",
        "# mylist[4][1] = \"kamar tidur\"\n",
        "\n",
        "print(\"mylist[0] =\", mylist[0])\n",
        "print(\"mylist[1] =\", mylist[1])\n",
        "print(\"mylist[2] =\", mylist[2])\n",
        "print(\"mylist[3] =\", mylist[3])\n",
        "print(\"mylist[4] =\", mylist[4])\n",
        "\n",
        "print(\"mylist[4][0] =\", mylist[4][0])\n",
        "print(\"mylist[4][1] =\", mylist[4][1])"
      ],
      "metadata": {
        "colab": {
          "base_uri": "https://localhost:8080/"
        },
        "id": "NLKGfNm7tmP8",
        "outputId": "3f378b00-7f35-4e11-c8ce-cf6139792543"
      },
      "execution_count": null,
      "outputs": [
        {
          "output_type": "stream",
          "name": "stdout",
          "text": [
            "mylist[0] = 1\n",
            "mylist[1] = Rumah\n",
            "mylist[2] = 4.5\n",
            "mylist[3] = True\n",
            "mylist[4] = ['kamar mandi', 'kamar tidur']\n",
            "mylist[4][0] = kamar mandi\n",
            "mylist[4][1] = kamar tidur\n"
          ]
        }
      ]
    },
    {
      "cell_type": "code",
      "source": [
        "# deklarasi variabel tuple\n",
        "numbers = (23, 43, 15, 34)\n",
        "\n",
        "# cara mengakses elemen dalam variabel tuple\n",
        "print(numbers[0])   # 23\n",
        "print(numbers[1])   # 43\n",
        "print(numbers[2])   # 15\n"
      ],
      "metadata": {
        "colab": {
          "base_uri": "https://localhost:8080/"
        },
        "id": "dG4715odNMOU",
        "outputId": "b838c888-0238-4bc9-d61f-d1a9d81c31b7"
      },
      "execution_count": null,
      "outputs": [
        {
          "output_type": "stream",
          "name": "stdout",
          "text": [
            "23\n",
            "43\n",
            "15\n"
          ]
        }
      ]
    },
    {
      "cell_type": "code",
      "source": [
        "# deklarasi variabel set a dan b\n",
        "a = {1, 2, 3}\n",
        "b = {2, 3, 4}\n",
        "\n",
        "# operasi gabungan\n",
        "print(a.union(b))              # {1, 2, 3, 4}\n",
        "\n",
        "# operasi irisan\n",
        "print(a.intersection(b))       # {2, 3}\n",
        "\n",
        "# operasi perbedaan\n",
        "print(a.symmetric_difference(b))   # {1, 4}\n"
      ],
      "metadata": {
        "colab": {
          "base_uri": "https://localhost:8080/"
        },
        "id": "FzsBgLiFSTpo",
        "outputId": "4cb4c5f8-a0ab-4d88-9aa7-baf456e6440c"
      },
      "execution_count": null,
      "outputs": [
        {
          "output_type": "stream",
          "name": "stdout",
          "text": [
            "{1, 2, 3, 4}\n",
            "{2, 3}\n",
            "{1, 4}\n"
          ]
        }
      ]
    },
    {
      "cell_type": "code",
      "source": [
        "# deklarasi variabel dictionary\n",
        "propertyDetail = {'numFloors': 1, \"propertyType\": \"Rumah\", \"hasTerrace\": True, \"hasGarage\": False}\n",
        "\n",
        "# cara mengakses elemen dalam variabel dictionary\n",
        "propertyDetail[\"numFloors\"]        # 1\n",
        "propertyDetail[\"propertyType\"]     # Rumah\n",
        "propertyDetail[\"hasTerrace\"]       # True\n",
        "propertyDetail[\"hasGarage\"]        # False\n",
        "\n",
        "# cara mengubah nilai elemen dalam variabel dictionary\n",
        "propertyDetail[\"hasTerrace\"] = False\n",
        "\n",
        "propertyDetail[\"hasTerrace\"]       # False\n",
        "\n",
        "#print(propertyDetail[\"propertyType\"])\n",
        "\n",
        "print(propertyDetail[\"numFloors\"])       # 1\n",
        "print(propertyDetail[\"propertyType\"])    # Rumah\n",
        "print(propertyDetail[\"hasTerrace\"])      # True\n",
        "print(propertyDetail[\"hasGarage\"])       # False\n",
        "\n",
        "propertyDetail[\"hasTerrace\"] = False\n",
        "\n",
        "print(propertyDetail[\"hasTerrace\"])      # False\n",
        "\n"
      ],
      "metadata": {
        "colab": {
          "base_uri": "https://localhost:8080/"
        },
        "id": "TnK8KOGDSo-K",
        "outputId": "3cc94300-a754-43ee-d07e-418d8468217c"
      },
      "execution_count": null,
      "outputs": [
        {
          "output_type": "stream",
          "name": "stdout",
          "text": [
            "1\n",
            "Rumah\n",
            "False\n",
            "False\n",
            "False\n"
          ]
        }
      ]
    }
  ]
}
