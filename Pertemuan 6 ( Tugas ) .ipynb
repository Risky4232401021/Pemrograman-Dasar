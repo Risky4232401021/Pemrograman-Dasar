{
  "nbformat": 4,
  "nbformat_minor": 0,
  "metadata": {
    "colab": {
      "provenance": [],
      "authorship_tag": "ABX9TyMUEnjnoe8sGblhFNTw8TKZ",
      "include_colab_link": true
    },
    "kernelspec": {
      "name": "python3",
      "display_name": "Python 3"
    },
    "language_info": {
      "name": "python"
    }
  },
  "cells": [
    {
      "cell_type": "markdown",
      "metadata": {
        "id": "view-in-github",
        "colab_type": "text"
      },
      "source": [
        "<a href=\"https://colab.research.google.com/github/Risky4232401021/Pemrograman-Dasar/blob/main/Pertemuan%206%20(%20Tugas%20)%20.ipynb\" target=\"_parent\"><img src=\"https://colab.research.google.com/assets/colab-badge.svg\" alt=\"Open In Colab\"/></a>"
      ]
    },
    {
      "cell_type": "code",
      "source": [
        "# Program Menggunakan percabangan, perulangan, tipe data primitif dan non-primitif\n",
        "\n",
        "print(\"Program Daftar Nilai Mahasiswa RPE Pagi 3A\")\n",
        "\n",
        "# Tipe Data Dictionary dan List berisi data mahasiswa\n",
        "data_mahasiswa = {\n",
        "    \"Muhammad Risky\": [90, 95, 85],\n",
        "    \"Harits Al hasyir\": [75, 65, 70],\n",
        "    \"Yosabad Bima\": [80, 90, 87] }\n",
        "\n",
        "# Tipe Data Tuple\n",
        "mata_kuliah = (\"Pemograman Dasar\", \"Perpindahan Panas\", \"PLC\")\n",
        "\n",
        "# Tipe Data Set\n",
        "nilai_unik = set()\n",
        "\n",
        "# Perulangan for\n",
        "for nama, nilai_list in data_mahasiswa.items():\n",
        "    print(f\"Nama Mahasiswa : {nama}\")\n",
        "    total = 0\n",
        "\n",
        "    for i in range(len(mata_kuliah)):\n",
        "        print(f\"{mata_kuliah[i]} : {nilai_list[i]}\")\n",
        "        total += nilai_list[i]\n",
        "        nilai_unik.add(nilai_list[i])\n",
        "\n",
        "    # Hitung rata-rata (tipe data primitif int dan float)\n",
        "    rata_rata = total / len(mata_kuliah)\n",
        "\n",
        "    # Percabangan if elif else\n",
        "    if rata_rata >= 85:\n",
        "        keterangan = \"Sangat Baik\"\n",
        "    elif rata_rata >= 70:\n",
        "        keterangan = \"Baik\"\n",
        "    else:\n",
        "        keterangan = \"Revisi\"\n",
        "\n",
        "    print(f\"Rata-rata Nilai : {rata_rata:.2f}\")\n",
        "    print(f\"Keterangan      : {keterangan}\")\n",
        "\n",
        "# Perulangan while\n",
        "lanjut = True\n",
        "while lanjut:\n",
        "    jawab = input(\"Tampilkan semua nilai keseluruhan mahasiswa? (ya/tidak): \").lower()\n",
        "    if jawab == \"ya\":\n",
        "        print(\"Nilai keseluruhan di setiap mahasiswa:\", nilai_unik)\n",
        "        lanjut = False\n",
        "    elif jawab == \"tidak\":\n",
        "        print(\"Program selesai. Terima kasih!\")\n",
        "        lanjut = False\n",
        "    else:\n",
        "        print(\"Jawaban tidak dikenal, coba lagi...\")\n",
        "\n"
      ],
      "metadata": {
        "colab": {
          "base_uri": "https://localhost:8080/"
        },
        "id": "a5cR5TZr-vW5",
        "outputId": "eaa2e2de-444a-4b46-a981-ba605a790e81"
      },
      "execution_count": null,
      "outputs": [
        {
          "output_type": "stream",
          "name": "stdout",
          "text": [
            "Program Daftar Nilai Mahasiswa RPE Pagi 3A\n",
            "Nama Mahasiswa : Muhammad Risky\n",
            "Pemograman Dasar : 90\n",
            "Perpindahan Panas : 95\n",
            "PLC : 85\n",
            "Rata-rata Nilai : 90.00\n",
            "Keterangan      : Sangat Baik\n",
            "Nama Mahasiswa : Harits Al hasyir\n",
            "Pemograman Dasar : 75\n",
            "Perpindahan Panas : 65\n",
            "PLC : 70\n",
            "Rata-rata Nilai : 70.00\n",
            "Keterangan      : Baik\n",
            "Nama Mahasiswa : Yosabad Bima\n",
            "Pemograman Dasar : 80\n",
            "Perpindahan Panas : 90\n",
            "PLC : 87\n",
            "Rata-rata Nilai : 85.67\n",
            "Keterangan      : Sangat Baik\n",
            "Tampilkan semua nilai keseluruhan mahasiswa? (ya/tidak): ya\n",
            "Nilai keseluruhan di setiap mahasiswa: {65, 70, 75, 80, 85, 87, 90, 95}\n"
          ]
        }
      ]
    }
  ]
}