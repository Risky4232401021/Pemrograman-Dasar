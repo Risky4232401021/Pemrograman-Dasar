{
  "nbformat": 4,
  "nbformat_minor": 0,
  "metadata": {
    "colab": {
      "provenance": [],
      "authorship_tag": "ABX9TyP+/KmOiEAeXQNjSY/Q8lUw",
      "include_colab_link": true
    },
    "kernelspec": {
      "name": "python3",
      "display_name": "Python 3"
    },
    "language_info": {
      "name": "python"
    }
  },
  "cells": [
    {
      "cell_type": "markdown",
      "metadata": {
        "id": "view-in-github",
        "colab_type": "text"
      },
      "source": [
        "<a href=\"https://colab.research.google.com/github/Risky4232401021/Pemrograman-Dasar/blob/main/Pertemuan%203%20(Tugas)%20.ipynb\" target=\"_parent\"><img src=\"https://colab.research.google.com/assets/colab-badge.svg\" alt=\"Open In Colab\"/></a>"
      ]
    },
    {
      "cell_type": "code",
      "source": [
        "# Program Kasir Sederhana\n",
        "\n",
        "# Input harga dan jumlah item\n",
        "kopi = float(input(\"Harga 1 gelas kopi       : Rp \"))\n",
        "jumlah_kopi = int(input(\"Jumlah kopi yang dibeli  : \"))\n",
        "puding = float(input(\"Harga 1 piring puding    : Rp \"))\n",
        "jumlah_puding = int(input(\"Jumlah puding yang dibeli: \"))\n",
        "roti = float(input(\"Harga 1 buah roti        : Rp \"))\n",
        "jumlah_roti = int(input(\"Jumlah roti yang dibeli  : \"))\n",
        "\n",
        "member = input(\"Apakah Anda member? (ya/tidak): \").lower()\n",
        "\n",
        "# langkah pengerjaannya\n",
        "subtotal = (kopi * jumlah_kopi) + (puding * jumlah_puding) + (roti * jumlah_roti)\n",
        "syarat_diskon = (member == \"ya\") and (subtotal > 100000)\n",
        "diskon = subtotal * 0.15 * syarat_diskon\n",
        "harga_setelah_diskon = subtotal - diskon\n",
        "ppn = harga_setelah_diskon * 0.11\n",
        "total_akhir = harga_setelah_diskon + ppn\n",
        "\n",
        "print(\"    RINCIAN BELANJA     \")\n",
        "print(\"Subtotal              : Rp\", subtotal)\n",
        "print(\"Diskon                : Rp\", diskon)\n",
        "print(\"Harga setelah diskon  : Rp\", harga_setelah_diskon)\n",
        "print(\"PPN 11%               : Rp\", ppn)\n",
        "print(\"Total yang harus dibayar : Rp\", total_akhir)\n"
      ],
      "metadata": {
        "colab": {
          "base_uri": "https://localhost:8080/"
        },
        "id": "EKdz-h2RJTjr",
        "outputId": "fba98b01-3654-475e-8644-60a9062da077"
      },
      "execution_count": null,
      "outputs": [
        {
          "output_type": "stream",
          "name": "stdout",
          "text": [
            "Harga 1 gelas kopi       : Rp 25000\n",
            "Jumlah kopi yang dibeli  : 2\n",
            "Harga 1 piring puding    : Rp 15000\n",
            "Jumlah puding yang dibeli: 2\n",
            "Harga 1 buah roti        : Rp 10000\n",
            "Jumlah roti yang dibeli  : 4\n",
            "Apakah Anda member? (ya/tidak): ya\n",
            "    RINCIAN BELANJA     \n",
            "Subtotal              : Rp 120000.0\n",
            "Diskon                : Rp 18000.0\n",
            "Harga setelah diskon  : Rp 102000.0\n",
            "PPN 11%               : Rp 11220.0\n",
            "Total yang harus dibayar : Rp 113220.0\n"
          ]
        }
      ]
    }
  ]
}